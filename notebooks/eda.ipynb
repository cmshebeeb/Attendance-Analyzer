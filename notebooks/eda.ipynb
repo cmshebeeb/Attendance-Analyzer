{
 "cells": [
  {
   "cell_type": "code",
   "execution_count": 13,
   "metadata": {},
   "outputs": [
    {
     "name": "stdout",
     "output_type": "stream",
     "text": [
      "   Roll\\nNo. Student Name 09-Jan 10-Jan 16-Jan 17-Jan 23-Jan 24-Jan 30-Jan  \\\n",
      "0        1.0          Max      P      P      P      P      P      P      P   \n",
      "1        2.0          Mia      P      P      P      P      P      P      P   \n",
      "2        3.0          zee      P      P             P      A      P      P   \n",
      "3        4.0         xhan      P      P      P      P      P      P      P   \n",
      "4        5.0       sikndr      P      P      P      P      P      A      A   \n",
      "\n",
      "  31-Jan Curent Month's Lect.  Unnamed: 11 Unnamed: 12  Overall Lect.  \\\n",
      "0      P                    8            8        100%              8   \n",
      "1      P                    8            8        100%              8   \n",
      "2      P                    7            8         88%              7   \n",
      "3      P                    8            8        100%              8   \n",
      "4      P                    6            8         75%              6   \n",
      "\n",
      "   Unnamed: 14 Unnamed: 15  present_days  absent_days  total_classes  \\\n",
      "0            8        100%             8            0              8   \n",
      "1            8        100%             8            0              8   \n",
      "2            8         88%             6            1              7   \n",
      "3            8        100%             8            0              8   \n",
      "4            8         75%             6            2              8   \n",
      "\n",
      "   attendance_percentage  \n",
      "0             100.000000  \n",
      "1             100.000000  \n",
      "2              85.714286  \n",
      "3             100.000000  \n",
      "4              75.000000  \n"
     ]
    }
   ],
   "source": [
    "# load the dataset\n",
    "import pandas as pd\n",
    "df = pd.read_csv('C:\\\\Users\\\\msheb\\\\Attendance-Analyzer\\\\data\\\\AI_cleaned.csv')\n",
    "print(df.head())"
   ]
  }
 ],
 "metadata": {
  "kernelspec": {
   "display_name": "base",
   "language": "python",
   "name": "python3"
  },
  "language_info": {
   "codemirror_mode": {
    "name": "ipython",
    "version": 3
   },
   "file_extension": ".py",
   "mimetype": "text/x-python",
   "name": "python",
   "nbconvert_exporter": "python",
   "pygments_lexer": "ipython3",
   "version": "3.12.4"
  }
 },
 "nbformat": 4,
 "nbformat_minor": 2
}
