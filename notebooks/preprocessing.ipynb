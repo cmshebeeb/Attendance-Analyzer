{
 "cells": [
  {
   "cell_type": "code",
   "execution_count": 2,
   "metadata": {},
   "outputs": [],
   "source": [
    "import pandas as pd\n",
    "import os\n",
    "import sys"
   ]
  },
  {
   "cell_type": "code",
   "execution_count": 45,
   "metadata": {},
   "outputs": [],
   "source": [
    "# Update the working directory to the project root directory\n",
    "parent_directory = os.path.abspath(os.path.join(os.getcwd(), os.pardir))\n",
    "sys.path.append(parent_directory)"
   ]
  },
  {
   "cell_type": "code",
   "execution_count": 46,
   "metadata": {},
   "outputs": [],
   "source": [
    "df = pd.read_csv('C:\\\\Users\\\\msheb\\\\Attendance-Analyzer\\\\data\\\\AI_csv.csv')"
   ]
  },
  {
   "cell_type": "code",
   "execution_count": 47,
   "metadata": {},
   "outputs": [],
   "source": [
    "# Data Cleaning\n",
    "df.dropna(inplace=True)\n",
    "df.drop_duplicates(inplace=True)"
   ]
  },
  {
   "cell_type": "code",
   "execution_count": 48,
   "metadata": {},
   "outputs": [
    {
     "name": "stdout",
     "output_type": "stream",
     "text": [
      "Cleaned DataFrame:\n",
      "   Roll\\nNo. Student Name 09-Jan 10-Jan 16-Jan 17-Jan 23-Jan 24-Jan 30-Jan  \\\n",
      "1        1.0          Max      P      P      P      P      P      P      P   \n",
      "2        2.0          Mia      P      P      P      P      P      P      P   \n",
      "3        3.0          zee      P      P             P      A      P      P   \n",
      "4        4.0         xhan      P      P      P      P      P      P      P   \n",
      "5        5.0       sikndr      P      P      P      P      P      A      A   \n",
      "\n",
      "  31-Jan Curent Month's Lect. Unnamed: 11 Unnamed: 12 Overall Lect.  \\\n",
      "1      P                    8           8        100%             8   \n",
      "2      P                    8           8        100%             8   \n",
      "3      P                    7           8         88%             7   \n",
      "4      P                    8           8        100%             8   \n",
      "5      P                    6           8         75%             6   \n",
      "\n",
      "  Unnamed: 14 Unnamed: 15  \n",
      "1           8        100%  \n",
      "2           8        100%  \n",
      "3           8         88%  \n",
      "4           8        100%  \n",
      "5           8         75%  \n"
     ]
    }
   ],
   "source": [
    "# Display the first few rows of the dataframe\n",
    "print(\"Cleaned DataFrame:\")\n",
    "#print(df.head())"
   ]
  }
 ],
 "metadata": {
  "kernelspec": {
   "display_name": "base",
   "language": "python",
   "name": "python3"
  },
  "language_info": {
   "codemirror_mode": {
    "name": "ipython",
    "version": 3
   },
   "file_extension": ".py",
   "mimetype": "text/x-python",
   "name": "python",
   "nbconvert_exporter": "python",
   "pygments_lexer": "ipython3",
   "version": "3.12.4"
  }
 },
 "nbformat": 4,
 "nbformat_minor": 2
}
